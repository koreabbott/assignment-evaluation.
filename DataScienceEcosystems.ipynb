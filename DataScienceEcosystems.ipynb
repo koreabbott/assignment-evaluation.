{
 "cells": [
  {
   "cell_type": "markdown",
   "id": "12e57598",
   "metadata": {},
   "source": [
    "# Data Science Tools and Ecosystem"
   ]
  },
  {
   "cell_type": "markdown",
   "id": "864841f9",
   "metadata": {},
   "source": [
    "In this notebook, Data Science Tools and Ecosystem are summarized"
   ]
  },
  {
   "cell_type": "markdown",
   "id": "449d444d",
   "metadata": {},
   "source": [
    "Some of the popular languages that Data Scientists use are:SQL, JAVA, R."
   ]
  },
  {
   "cell_type": "markdown",
   "id": "bf42246c",
   "metadata": {},
   "source": [
    "Some of the commonly used libraries used by Data Scientists include:\n",
    "SciPy, NumPy, and Pandas"
   ]
  },
  {
   "cell_type": "markdown",
   "id": "bbe1c9d4",
   "metadata": {},
   "source": [
    "|Data Science Tools|\n",
    "|---------|\n",
    "|RStudio|\n",
    "|Apache| \n",
    "|Spark TensorFlow|"
   ]
  },
  {
   "cell_type": "markdown",
   "id": "9e077016",
   "metadata": {},
   "source": [
    "### Below are a few examples of evaluating arithmetic expressions in Python"
   ]
  },
  {
   "cell_type": "code",
   "execution_count": 18,
   "id": "de2679c0",
   "metadata": {},
   "outputs": [
    {
     "data": {
      "text/plain": [
       "17"
      ]
     },
     "execution_count": 18,
     "metadata": {},
     "output_type": "execute_result"
    }
   ],
   "source": [
    "#This a simple arithmetic expression to mutiply then add integers\n",
    "(3*4)+5"
   ]
  },
  {
   "cell_type": "code",
   "execution_count": 25,
   "id": "2c3d97b5",
   "metadata": {},
   "outputs": [
    {
     "data": {
      "text/plain": [
       "3.3333333333333335"
      ]
     },
     "execution_count": 25,
     "metadata": {},
     "output_type": "execute_result"
    }
   ],
   "source": [
    "#This will convert 200 minutes to hours by dividng by 60\n",
    "200/60"
   ]
  },
  {
   "cell_type": "markdown",
   "id": "72b7c834",
   "metadata": {},
   "source": [
    "**Objectives**\n",
    "- Data Science Tools\n",
    "- Popular Data Science Libraries\n",
    "- Multiplication\n",
    "- Popular Langauges"
   ]
  },
  {
   "cell_type": "markdown",
   "id": "16564f36",
   "metadata": {},
   "source": [
    "## Author\n",
    "Kory"
   ]
  },
  {
   "cell_type": "code",
   "execution_count": null,
   "id": "b76c0a8c",
   "metadata": {},
   "outputs": [],
   "source": []
  }
 ],
 "metadata": {
  "kernelspec": {
   "display_name": "Python 3 (ipykernel)",
   "language": "python",
   "name": "python3"
  },
  "language_info": {
   "codemirror_mode": {
    "name": "ipython",
    "version": 3
   },
   "file_extension": ".py",
   "mimetype": "text/x-python",
   "name": "python",
   "nbconvert_exporter": "python",
   "pygments_lexer": "ipython3",
   "version": "3.10.9"
  }
 },
 "nbformat": 4,
 "nbformat_minor": 5
}
